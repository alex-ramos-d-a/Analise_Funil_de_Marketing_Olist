{
 "cells": [
  {
   "cell_type": "markdown",
   "id": "28bdc500-5808-4de2-a30d-555e41402931",
   "metadata": {},
   "source": [
    "# Olist - Funil de Marketing"
   ]
  },
  {
   "cell_type": "markdown",
   "id": "944bd81e-d113-4f94-bb96-603a64705dc6",
   "metadata": {},
   "source": [
    "## Importação e exportação"
   ]
  },
  {
   "cell_type": "code",
   "execution_count": 1,
   "id": "72e49647-a9de-4197-9bd6-a56985e25aa5",
   "metadata": {},
   "outputs": [],
   "source": [
    "import pandas as pd\n",
    "import numpy as np\n",
    "import seaborn as sns\n",
    "import matplotlib.pyplot as plt\n",
    "import dataframe_image as dfi\n",
    "\n",
    "sns.set_style('white')"
   ]
  },
  {
   "cell_type": "code",
   "execution_count": 2,
   "id": "ec857028-ec2c-4e94-8bfb-72de927f00c8",
   "metadata": {},
   "outputs": [
    {
     "name": "stdout",
     "output_type": "stream",
     "text": [
      "Please provide your Kaggle credentials to download this dataset. Learn more: http://bit.ly/kaggle-creds\n",
      "Your Kaggle username:"
     ]
    },
    {
     "name": "stdin",
     "output_type": "stream",
     "text": [
      "  alexramos033\n"
     ]
    },
    {
     "name": "stdout",
     "output_type": "stream",
     "text": [
      "Your Kaggle Key:"
     ]
    },
    {
     "name": "stdin",
     "output_type": "stream",
     "text": [
      "  ········\n"
     ]
    },
    {
     "name": "stdout",
     "output_type": "stream",
     "text": [
      "Downloading marketing-funnel-olist.zip to .\\marketing-funnel-olist\n"
     ]
    },
    {
     "name": "stderr",
     "output_type": "stream",
     "text": [
      "100%|████████████████████████████████████████████████████████████████████████████████| 278k/278k [00:00<00:00, 973kB/s]"
     ]
    },
    {
     "name": "stdout",
     "output_type": "stream",
     "text": [
      "\n"
     ]
    },
    {
     "name": "stderr",
     "output_type": "stream",
     "text": [
      "\n"
     ]
    }
   ],
   "source": [
    "import opendatasets as op\n",
    "dataset = \"https://www.kaggle.com/datasets/olistbr/marketing-funnel-olist/code?select=olist_marketing_qualified_leads_dataset.csv\"\n",
    "op.download(dataset)"
   ]
  },
  {
   "cell_type": "code",
   "execution_count": 86,
   "id": "7a8b7cda-df00-4cdd-9bd7-3f05c1db08fe",
   "metadata": {},
   "outputs": [],
   "source": [
    "# Importando arquivos \n",
    "closed = pd.read_csv(\"olist_closed_deals_dataset.csv\")\n",
    "\n",
    "mql = pd.read_csv(\"olist_marketing_qualified_leads_dataset.csv\")"
   ]
  },
  {
   "cell_type": "code",
   "execution_count": 87,
   "id": "6b89f01c-9502-4ad6-97b9-a9f39548e94a",
   "metadata": {},
   "outputs": [
    {
     "data": {
      "text/html": [
       "<div>\n",
       "<style scoped>\n",
       "    .dataframe tbody tr th:only-of-type {\n",
       "        vertical-align: middle;\n",
       "    }\n",
       "\n",
       "    .dataframe tbody tr th {\n",
       "        vertical-align: top;\n",
       "    }\n",
       "\n",
       "    .dataframe thead th {\n",
       "        text-align: right;\n",
       "    }\n",
       "</style>\n",
       "<table border=\"1\" class=\"dataframe\">\n",
       "  <thead>\n",
       "    <tr style=\"text-align: right;\">\n",
       "      <th></th>\n",
       "      <th>mql_id</th>\n",
       "      <th>seller_id</th>\n",
       "      <th>sdr_id</th>\n",
       "      <th>sr_id</th>\n",
       "      <th>won_date</th>\n",
       "      <th>business_segment</th>\n",
       "      <th>lead_type</th>\n",
       "      <th>lead_behaviour_profile</th>\n",
       "      <th>has_company</th>\n",
       "      <th>has_gtin</th>\n",
       "      <th>average_stock</th>\n",
       "      <th>business_type</th>\n",
       "      <th>declared_product_catalog_size</th>\n",
       "      <th>declared_monthly_revenue</th>\n",
       "    </tr>\n",
       "  </thead>\n",
       "  <tbody>\n",
       "    <tr>\n",
       "      <th>0</th>\n",
       "      <td>5420aad7fec3549a85876ba1c529bd84</td>\n",
       "      <td>2c43fb513632d29b3b58df74816f1b06</td>\n",
       "      <td>a8387c01a09e99ce014107505b92388c</td>\n",
       "      <td>4ef15afb4b2723d8f3d81e51ec7afefe</td>\n",
       "      <td>2018-02-26 19:58:54</td>\n",
       "      <td>pet</td>\n",
       "      <td>online_medium</td>\n",
       "      <td>cat</td>\n",
       "      <td>NaN</td>\n",
       "      <td>NaN</td>\n",
       "      <td>NaN</td>\n",
       "      <td>reseller</td>\n",
       "      <td>NaN</td>\n",
       "      <td>0.0</td>\n",
       "    </tr>\n",
       "    <tr>\n",
       "      <th>1</th>\n",
       "      <td>a555fb36b9368110ede0f043dfc3b9a0</td>\n",
       "      <td>bbb7d7893a450660432ea6652310ebb7</td>\n",
       "      <td>09285259593c61296eef10c734121d5b</td>\n",
       "      <td>d3d1e91a157ea7f90548eef82f1955e3</td>\n",
       "      <td>2018-05-08 20:17:59</td>\n",
       "      <td>car_accessories</td>\n",
       "      <td>industry</td>\n",
       "      <td>eagle</td>\n",
       "      <td>NaN</td>\n",
       "      <td>NaN</td>\n",
       "      <td>NaN</td>\n",
       "      <td>reseller</td>\n",
       "      <td>NaN</td>\n",
       "      <td>0.0</td>\n",
       "    </tr>\n",
       "  </tbody>\n",
       "</table>\n",
       "</div>"
      ],
      "text/plain": [
       "                             mql_id                         seller_id  \\\n",
       "0  5420aad7fec3549a85876ba1c529bd84  2c43fb513632d29b3b58df74816f1b06   \n",
       "1  a555fb36b9368110ede0f043dfc3b9a0  bbb7d7893a450660432ea6652310ebb7   \n",
       "\n",
       "                             sdr_id                             sr_id  \\\n",
       "0  a8387c01a09e99ce014107505b92388c  4ef15afb4b2723d8f3d81e51ec7afefe   \n",
       "1  09285259593c61296eef10c734121d5b  d3d1e91a157ea7f90548eef82f1955e3   \n",
       "\n",
       "              won_date business_segment      lead_type lead_behaviour_profile  \\\n",
       "0  2018-02-26 19:58:54              pet  online_medium                    cat   \n",
       "1  2018-05-08 20:17:59  car_accessories       industry                  eagle   \n",
       "\n",
       "  has_company has_gtin average_stock business_type  \\\n",
       "0         NaN      NaN           NaN      reseller   \n",
       "1         NaN      NaN           NaN      reseller   \n",
       "\n",
       "   declared_product_catalog_size  declared_monthly_revenue  \n",
       "0                            NaN                       0.0  \n",
       "1                            NaN                       0.0  "
      ]
     },
     "execution_count": 87,
     "metadata": {},
     "output_type": "execute_result"
    }
   ],
   "source": [
    "closed.head(2)"
   ]
  },
  {
   "cell_type": "markdown",
   "id": "3bb14e13-b4a7-4594-994c-c6073d442c77",
   "metadata": {},
   "source": [
    "## ETL"
   ]
  },
  {
   "cell_type": "markdown",
   "id": "5502e4ef-0dc1-46ee-a863-38825fe6facb",
   "metadata": {},
   "source": [
    "**Tabela Closed**"
   ]
  },
  {
   "cell_type": "code",
   "execution_count": null,
   "id": "33c0bf1f-9600-46f2-a881-c030c193c26b",
   "metadata": {},
   "outputs": [],
   "source": [
    "# Removendo colunas que não usarei \n",
    "closed = closed.drop(columns=[\"seller_id\",\"sdr_id\",\"sr_id\"])\n",
    "closed = closed.drop(columns=['has_company', 'has_gtin', 'average_stock','declared_product_catalog_size'])\n",
    "\n",
    "# Mudando tipo de dado\n",
    "closed[\"won_date\"] = pd.to_datetime(closed[\"won_date\"])\n",
    "closed.info()\n",
    "\n",
    "# Removendo celulas VAZIAS\n",
    "closed.dropna(how='any', inplace=True)\n",
    "\n",
    "# removendo colunas id 'por exceço de caracteres'\n",
    "closed = closed.drop(columns=\"mql_id\")\n",
    "\n",
    "# Add coluna ID 'nova'\n",
    "id = range(1,843)\n",
    "id = pd.Series(id)\n",
    "closed['id'] = id\n",
    "\n",
    "# Substituindo valores incorretos da coluna lead_behavior\n",
    "closed[\"lead_behaviour_profile\"] = closed[\"lead_behaviour_profile\"].replace('cat, wolf',\"cat\")\n",
    "closed[\"lead_behaviour_profile\"] = closed[\"lead_behaviour_profile\"].replace('eagle, wolf',\"eagle\")\n",
    "closed[\"lead_behaviour_profile\"] = closed[\"lead_behaviour_profile\"].replace('shark, cat',\"shark\")\n",
    "closed[\"lead_behaviour_profile\"] = closed[\"lead_behaviour_profile\"].replace('eagle, cat',\"eagle\")\n",
    "closed[\"lead_behaviour_profile\"] = closed[\"lead_behaviour_profile\"].replace('shark, wolf',\"shark\");\n",
    "\n",
    "# Exportando a table já modificada\n",
    "#closed.to_csv(r'C:\\Users\\ramos\\Desktop\\Studio Analise Dados\\My Own\\BI project\\olist\\df_closed.csv', index=False, header=True)\n",
    "#closed.head(2)"
   ]
  },
  {
   "cell_type": "code",
   "execution_count": 34,
   "id": "cd207a2a-a533-49b2-99dd-87297c0ede19",
   "metadata": {},
   "outputs": [
    {
     "name": "stdout",
     "output_type": "stream",
     "text": [
      "<class 'pandas.core.frame.DataFrame'>\n",
      "RangeIndex: 842 entries, 0 to 841\n",
      "Data columns (total 14 columns):\n",
      " #   Column                         Non-Null Count  Dtype  \n",
      "---  ------                         --------------  -----  \n",
      " 0   mql_id                         842 non-null    object \n",
      " 1   seller_id                      842 non-null    object \n",
      " 2   sdr_id                         842 non-null    object \n",
      " 3   sr_id                          842 non-null    object \n",
      " 4   won_date                       842 non-null    object \n",
      " 5   business_segment               841 non-null    object \n",
      " 6   lead_type                      836 non-null    object \n",
      " 7   lead_behaviour_profile         665 non-null    object \n",
      " 8   has_company                    63 non-null     object \n",
      " 9   has_gtin                       64 non-null     object \n",
      " 10  average_stock                  66 non-null     object \n",
      " 11  business_type                  832 non-null    object \n",
      " 12  declared_product_catalog_size  69 non-null     float64\n",
      " 13  declared_monthly_revenue       842 non-null    float64\n",
      "dtypes: float64(2), object(12)\n",
      "memory usage: 92.2+ KB\n"
     ]
    }
   ],
   "source": [
    "# Antes\n",
    "closed.info()"
   ]
  },
  {
   "cell_type": "code",
   "execution_count": 64,
   "id": "f311835b-595c-4614-ad04-30d5897b6d8e",
   "metadata": {},
   "outputs": [
    {
     "name": "stdout",
     "output_type": "stream",
     "text": [
      "<class 'pandas.core.frame.DataFrame'>\n",
      "Int64Index: 654 entries, 0 to 841\n",
      "Data columns (total 7 columns):\n",
      " #   Column                    Non-Null Count  Dtype         \n",
      "---  ------                    --------------  -----         \n",
      " 0   won_date                  654 non-null    datetime64[ns]\n",
      " 1   business_segment          654 non-null    object        \n",
      " 2   lead_type                 654 non-null    object        \n",
      " 3   lead_behaviour_profile    654 non-null    object        \n",
      " 4   business_type             654 non-null    object        \n",
      " 5   declared_monthly_revenue  654 non-null    float64       \n",
      " 6   id                        654 non-null    int64         \n",
      "dtypes: datetime64[ns](1), float64(1), int64(1), object(4)\n",
      "memory usage: 40.9+ KB\n"
     ]
    }
   ],
   "source": [
    "# Depois\n",
    "closed.info()"
   ]
  },
  {
   "cell_type": "markdown",
   "id": "d77e6fd0-b8ec-4636-9bd1-321882b20137",
   "metadata": {},
   "source": [
    "**Tabela MQL**"
   ]
  },
  {
   "cell_type": "code",
   "execution_count": 11,
   "id": "f54c9f7e-3e5b-4138-836c-1edd7072971d",
   "metadata": {},
   "outputs": [],
   "source": [
    "# mudando tipo de dado\n",
    "mql['first_contact_date'] = pd.to_datetime(mql[\"first_contact_date\"])\n",
    "\n",
    "# Removendo todos NaN\n",
    "mql.dropna(how='any', inplace=True)\n",
    "\n",
    "# removendo colunas 'por exceço de caracteres'\n",
    "mql = mql.drop(columns=\"landing_page_id\")\n",
    "mql = mql.drop(columns=\"mql_id\")\n",
    "\n",
    "# Add coluna ID \n",
    "id = range(1,7940)\n",
    "id = pd.Series(id)\n",
    "mql['id'] = id\n",
    "\n",
    "# para exportando tabela\n",
    "#mql.to_csv(r'C:\\Users\\ramos\\Desktop\\Studio Analise Dados\\My Own\\BI project\\olist\\df_mql.csv', index=False, header=True)"
   ]
  },
  {
   "cell_type": "code",
   "execution_count": 23,
   "id": "248080da-1ab5-46ec-aedb-fbca55c7e67e",
   "metadata": {},
   "outputs": [
    {
     "name": "stdout",
     "output_type": "stream",
     "text": [
      "<class 'pandas.core.frame.DataFrame'>\n",
      "RangeIndex: 8000 entries, 0 to 7999\n",
      "Data columns (total 4 columns):\n",
      " #   Column              Non-Null Count  Dtype \n",
      "---  ------              --------------  ----- \n",
      " 0   mql_id              8000 non-null   object\n",
      " 1   first_contact_date  8000 non-null   object\n",
      " 2   landing_page_id     8000 non-null   object\n",
      " 3   origin              7940 non-null   object\n",
      "dtypes: object(4)\n",
      "memory usage: 250.1+ KB\n"
     ]
    }
   ],
   "source": [
    "# Antes\n",
    "mql.info()"
   ]
  },
  {
   "cell_type": "code",
   "execution_count": 62,
   "id": "4aaa82db-7006-402f-81ac-9b3b5cbac5ea",
   "metadata": {},
   "outputs": [
    {
     "name": "stdout",
     "output_type": "stream",
     "text": [
      "<class 'pandas.core.frame.DataFrame'>\n",
      "Int64Index: 7940 entries, 0 to 7999\n",
      "Data columns (total 3 columns):\n",
      " #   Column              Non-Null Count  Dtype         \n",
      "---  ------              --------------  -----         \n",
      " 0   first_contact_date  7940 non-null   datetime64[ns]\n",
      " 1   origin              7940 non-null   object        \n",
      " 2   id                  7879 non-null   float64       \n",
      "dtypes: datetime64[ns](1), float64(1), object(1)\n",
      "memory usage: 248.1+ KB\n"
     ]
    }
   ],
   "source": [
    "# Depois\n",
    "mql.info()"
   ]
  },
  {
   "cell_type": "markdown",
   "id": "f0964dc9-7c38-4ea7-8dfa-2adc8d92a7b5",
   "metadata": {},
   "source": [
    "## Modelagem "
   ]
  },
  {
   "cell_type": "markdown",
   "id": "690629c7-ba36-40c8-aa56-5055cb759f17",
   "metadata": {},
   "source": [
    "Aqui tem um problema: \n",
    "\n",
    "    As tabelas tem estruturas diferentes em numero de linhas e quatidade de colunas, o que significa que NÃO e possivel realizar uma junção de tabelas e não sofrer com perda de dados. \n",
    "    \n",
    "    Diante disso a solução encontrada e realizar uma modelagem das tabelas em um banco de dados usando uma tabela externa para re-estruturar as tabelas e após importar novamente ao python."
   ]
  },
  {
   "cell_type": "markdown",
   "id": "ab41f02f-8bf0-4f9a-99d0-eebc3831c2c3",
   "metadata": {
    "toc-hr-collapsed": true
   },
   "source": [
    "## Analise"
   ]
  },
  {
   "cell_type": "code",
   "execution_count": 2,
   "id": "89e4667b-7a58-43a5-a309-931f23a1c52e",
   "metadata": {},
   "outputs": [
    {
     "name": "stderr",
     "output_type": "stream",
     "text": [
      "C:\\Users\\ramos\\AppData\\Local\\Temp\\ipykernel_2404\\1389285381.py:18: FutureWarning: weekofyear and week have been deprecated, please use DatetimeIndex.isocalendar().week instead, which returns a Series. To exactly reproduce the behavior of week and weekofyear and return an Index, you may call pd.Int64Index(idx.isocalendar().week)\n",
      "  dados[\"week\"] = pd.DatetimeIndex(dados[\"tempo\"]).week\n"
     ]
    }
   ],
   "source": [
    "# Importando os dados\n",
    "dados = pd.read_csv(\"olist_mark.csv\")\n",
    "\n",
    "# mudando tipo de dado\n",
    "dados['tempo'] = pd.to_datetime(dados[\"tempo\"])\n",
    "dados['first_contact_Date'] = pd.to_datetime(dados[\"first_contact_Date\"])\n",
    "dados['won_date'] = pd.to_datetime(dados[\"won_date\"])\n",
    "\n",
    "# add colunas de não repetição\n",
    "dados[\"c_mql\"] = dados[\"id_mql\"].drop_duplicates()\n",
    "dados[\"c_close\"] = dados[\"id_close\"].drop_duplicates()\n",
    "\n",
    "# extraindo colunas\n",
    "dados[\"year\"] = pd.DatetimeIndex(dados[\"tempo\"]).year\n",
    "dados[\"year2\"] = pd.DatetimeIndex(dados[\"first_contact_Date\"]).year\n",
    "dados[\"month2\"] = pd.DatetimeIndex(dados[\"first_contact_Date\"]).month\n",
    "dados[\"month\"] = pd.DatetimeIndex(dados[\"tempo\"]).month\n",
    "dados[\"week\"] = pd.DatetimeIndex(dados[\"tempo\"]).week\n",
    "dados[\"quate\"] = pd.DatetimeIndex(dados[\"tempo\"]).quarter"
   ]
  },
  {
   "cell_type": "code",
   "execution_count": 38,
   "id": "7135de51-150a-4104-b30a-3263f45ba890",
   "metadata": {},
   "outputs": [
    {
     "data": {
      "text/html": [
       "<div>\n",
       "<style scoped>\n",
       "    .dataframe tbody tr th:only-of-type {\n",
       "        vertical-align: middle;\n",
       "    }\n",
       "\n",
       "    .dataframe tbody tr th {\n",
       "        vertical-align: top;\n",
       "    }\n",
       "\n",
       "    .dataframe thead th {\n",
       "        text-align: right;\n",
       "    }\n",
       "</style>\n",
       "<table border=\"1\" class=\"dataframe\">\n",
       "  <thead>\n",
       "    <tr style=\"text-align: right;\">\n",
       "      <th></th>\n",
       "      <th>id_mql</th>\n",
       "      <th>id_close</th>\n",
       "      <th>origin</th>\n",
       "      <th>tempo</th>\n",
       "      <th>business_segmento</th>\n",
       "      <th>lead_behavior</th>\n",
       "      <th>business_type</th>\n",
       "      <th>first_contact_Date</th>\n",
       "      <th>won_date</th>\n",
       "      <th>contato_primeiro_ate_fechamento</th>\n",
       "      <th>c_mql</th>\n",
       "      <th>c_close</th>\n",
       "      <th>year</th>\n",
       "      <th>year2</th>\n",
       "      <th>month2</th>\n",
       "      <th>month</th>\n",
       "      <th>week</th>\n",
       "      <th>quate</th>\n",
       "    </tr>\n",
       "  </thead>\n",
       "  <tbody>\n",
       "    <tr>\n",
       "      <th>0</th>\n",
       "      <td>1</td>\n",
       "      <td>57</td>\n",
       "      <td>social</td>\n",
       "      <td>2018-02-26</td>\n",
       "      <td>pet</td>\n",
       "      <td>cat</td>\n",
       "      <td>reseller</td>\n",
       "      <td>2018-02-01</td>\n",
       "      <td>2018-02-26</td>\n",
       "      <td>-25.0</td>\n",
       "      <td>1.0</td>\n",
       "      <td>57.0</td>\n",
       "      <td>2018</td>\n",
       "      <td>2018.0</td>\n",
       "      <td>2.0</td>\n",
       "      <td>2</td>\n",
       "      <td>9</td>\n",
       "      <td>1</td>\n",
       "    </tr>\n",
       "    <tr>\n",
       "      <th>1</th>\n",
       "      <td>1</td>\n",
       "      <td>56</td>\n",
       "      <td>social</td>\n",
       "      <td>2018-02-26</td>\n",
       "      <td>pet</td>\n",
       "      <td>cat</td>\n",
       "      <td>reseller</td>\n",
       "      <td>2018-02-01</td>\n",
       "      <td>2018-02-26</td>\n",
       "      <td>-25.0</td>\n",
       "      <td>NaN</td>\n",
       "      <td>56.0</td>\n",
       "      <td>2018</td>\n",
       "      <td>2018.0</td>\n",
       "      <td>2.0</td>\n",
       "      <td>2</td>\n",
       "      <td>9</td>\n",
       "      <td>1</td>\n",
       "    </tr>\n",
       "    <tr>\n",
       "      <th>2</th>\n",
       "      <td>1</td>\n",
       "      <td>55</td>\n",
       "      <td>social</td>\n",
       "      <td>2018-02-26</td>\n",
       "      <td>pet</td>\n",
       "      <td>cat</td>\n",
       "      <td>reseller</td>\n",
       "      <td>2018-02-01</td>\n",
       "      <td>2018-02-26</td>\n",
       "      <td>-25.0</td>\n",
       "      <td>NaN</td>\n",
       "      <td>55.0</td>\n",
       "      <td>2018</td>\n",
       "      <td>2018.0</td>\n",
       "      <td>2.0</td>\n",
       "      <td>2</td>\n",
       "      <td>9</td>\n",
       "      <td>1</td>\n",
       "    </tr>\n",
       "    <tr>\n",
       "      <th>3</th>\n",
       "      <td>1</td>\n",
       "      <td>54</td>\n",
       "      <td>social</td>\n",
       "      <td>2018-02-26</td>\n",
       "      <td>pet</td>\n",
       "      <td>cat</td>\n",
       "      <td>reseller</td>\n",
       "      <td>2018-02-01</td>\n",
       "      <td>2018-02-26</td>\n",
       "      <td>-25.0</td>\n",
       "      <td>NaN</td>\n",
       "      <td>54.0</td>\n",
       "      <td>2018</td>\n",
       "      <td>2018.0</td>\n",
       "      <td>2.0</td>\n",
       "      <td>2</td>\n",
       "      <td>9</td>\n",
       "      <td>1</td>\n",
       "    </tr>\n",
       "    <tr>\n",
       "      <th>4</th>\n",
       "      <td>1</td>\n",
       "      <td>53</td>\n",
       "      <td>social</td>\n",
       "      <td>2018-02-26</td>\n",
       "      <td>pet</td>\n",
       "      <td>cat</td>\n",
       "      <td>reseller</td>\n",
       "      <td>2018-02-01</td>\n",
       "      <td>2018-02-26</td>\n",
       "      <td>-25.0</td>\n",
       "      <td>NaN</td>\n",
       "      <td>53.0</td>\n",
       "      <td>2018</td>\n",
       "      <td>2018.0</td>\n",
       "      <td>2.0</td>\n",
       "      <td>2</td>\n",
       "      <td>9</td>\n",
       "      <td>1</td>\n",
       "    </tr>\n",
       "  </tbody>\n",
       "</table>\n",
       "</div>"
      ],
      "text/plain": [
       "   id_mql  id_close  origin      tempo business_segmento lead_behavior  \\\n",
       "0       1        57  social 2018-02-26               pet           cat   \n",
       "1       1        56  social 2018-02-26               pet           cat   \n",
       "2       1        55  social 2018-02-26               pet           cat   \n",
       "3       1        54  social 2018-02-26               pet           cat   \n",
       "4       1        53  social 2018-02-26               pet           cat   \n",
       "\n",
       "  business_type first_contact_Date   won_date  \\\n",
       "0      reseller         2018-02-01 2018-02-26   \n",
       "1      reseller         2018-02-01 2018-02-26   \n",
       "2      reseller         2018-02-01 2018-02-26   \n",
       "3      reseller         2018-02-01 2018-02-26   \n",
       "4      reseller         2018-02-01 2018-02-26   \n",
       "\n",
       "   contato_primeiro_ate_fechamento  c_mql  c_close  year   year2  month2  \\\n",
       "0                            -25.0    1.0     57.0  2018  2018.0     2.0   \n",
       "1                            -25.0    NaN     56.0  2018  2018.0     2.0   \n",
       "2                            -25.0    NaN     55.0  2018  2018.0     2.0   \n",
       "3                            -25.0    NaN     54.0  2018  2018.0     2.0   \n",
       "4                            -25.0    NaN     53.0  2018  2018.0     2.0   \n",
       "\n",
       "   month  week  quate  \n",
       "0      2     9      1  \n",
       "1      2     9      1  \n",
       "2      2     9      1  \n",
       "3      2     9      1  \n",
       "4      2     9      1  "
      ]
     },
     "execution_count": 38,
     "metadata": {},
     "output_type": "execute_result"
    }
   ],
   "source": [
    "dados.head()"
   ]
  },
  {
   "cell_type": "markdown",
   "id": "90656d1d-69cf-4de9-be57-92911f95e939",
   "metadata": {},
   "source": [
    "## Quantitativo"
   ]
  },
  {
   "cell_type": "markdown",
   "id": "04586afb-439a-4760-8902-c82846513e6a",
   "metadata": {},
   "source": [
    "### Quantas Leads converteram de MQL para Cliente?"
   ]
  },
  {
   "cell_type": "markdown",
   "id": "1c60d432-ca0f-41fa-bc31-99f949ac777b",
   "metadata": {},
   "source": [
    "O valor percentual do numero de leads e de 74% o claramente e um altissimo numero de retenção dos possiveis clientes.\n",
    "\n",
    "*Demonstrando claramente a eficiente do time de marketing inbound, já que maior parte dos leads vieram do site.*"
   ]
  },
  {
   "cell_type": "code",
   "execution_count": 25,
   "id": "9fd9b1a8-9005-4f85-9d67-3ab31cfeb25d",
   "metadata": {},
   "outputs": [],
   "source": [
    "# Numeto total de leads\n",
    "leads = dados[\"c_mql\"].count()\n",
    "\n",
    "# Empresas se tornaram oportunidades\n",
    "clientes = dados[\"c_close\"].count()\n",
    "\n",
    "# MQL p/ lead valor %\n",
    "num_lead_perc = round(clientes / leads,2)"
   ]
  },
  {
   "cell_type": "code",
   "execution_count": 22,
   "id": "0b561bd2-6afc-40ff-96da-32703e8eb01b",
   "metadata": {},
   "outputs": [
    {
     "data": {
      "text/plain": [
       "5415"
      ]
     },
     "execution_count": 22,
     "metadata": {},
     "output_type": "execute_result"
    }
   ],
   "source": [
    "leads"
   ]
  },
  {
   "cell_type": "code",
   "execution_count": 23,
   "id": "5a942ffc-c83c-4d2b-a85f-a72b2de2b866",
   "metadata": {},
   "outputs": [
    {
     "data": {
      "text/plain": [
       "3982"
      ]
     },
     "execution_count": 23,
     "metadata": {},
     "output_type": "execute_result"
    }
   ],
   "source": [
    "clientes"
   ]
  },
  {
   "cell_type": "code",
   "execution_count": 26,
   "id": "c5bc8475-a0db-4bff-96a2-6eb364b1f731",
   "metadata": {},
   "outputs": [
    {
     "data": {
      "text/plain": [
       "0.74"
      ]
     },
     "execution_count": 26,
     "metadata": {},
     "output_type": "execute_result"
    }
   ],
   "source": [
    "num_lead_perc"
   ]
  },
  {
   "cell_type": "markdown",
   "id": "30aae035-75a8-47ea-8a11-48756ae4e512",
   "metadata": {},
   "source": [
    "## Tempo"
   ]
  },
  {
   "cell_type": "markdown",
   "id": "b9d19933-9990-4b45-858d-0a67f1fd5d11",
   "metadata": {
    "toc-hr-collapsed": true
   },
   "source": [
    "### Quantos leads por ano? "
   ]
  },
  {
   "cell_type": "markdown",
   "id": "e7463984-8e60-4d4d-91f7-98a51c50859f",
   "metadata": {},
   "source": [
    "Temos um numero de leads em 2017 de 817 leads, já em 2018 tem o assombraso numero de 4598 leads. O que e um valor explosivo \n",
    "em relação ao ano anterior. \n",
    "\n",
    "Mas oque levou a isso? \n",
    "    1° A data inicial do ano de 2017 se iniciou em Julho,\n",
    "    2° Como estamos falando de outbound, o as tecninas de obtenção de leads são demoradas tendo \n",
    "       um efeito de meses após se iniciado a campanha."
   ]
  },
  {
   "cell_type": "code",
   "execution_count": 12,
   "id": "1831cfc9-e283-49a2-8ec5-60b5e52c638e",
   "metadata": {},
   "outputs": [
    {
     "data": {
      "text/html": [
       "<div>\n",
       "<style scoped>\n",
       "    .dataframe tbody tr th:only-of-type {\n",
       "        vertical-align: middle;\n",
       "    }\n",
       "\n",
       "    .dataframe tbody tr th {\n",
       "        vertical-align: top;\n",
       "    }\n",
       "\n",
       "    .dataframe thead th {\n",
       "        text-align: right;\n",
       "    }\n",
       "</style>\n",
       "<table border=\"1\" class=\"dataframe\">\n",
       "  <thead>\n",
       "    <tr style=\"text-align: right;\">\n",
       "      <th></th>\n",
       "      <th>year2</th>\n",
       "      <th>c_mql</th>\n",
       "    </tr>\n",
       "  </thead>\n",
       "  <tbody>\n",
       "    <tr>\n",
       "      <th>0</th>\n",
       "      <td>2017.0</td>\n",
       "      <td>817</td>\n",
       "    </tr>\n",
       "    <tr>\n",
       "      <th>1</th>\n",
       "      <td>2018.0</td>\n",
       "      <td>4598</td>\n",
       "    </tr>\n",
       "  </tbody>\n",
       "</table>\n",
       "</div>"
      ],
      "text/plain": [
       "    year2  c_mql\n",
       "0  2017.0    817\n",
       "1  2018.0   4598"
      ]
     },
     "execution_count": 12,
     "metadata": {},
     "output_type": "execute_result"
    }
   ],
   "source": [
    "ano = dados.groupby([\"year2\"])[\"c_mql\"].count().reset_index()\n",
    "ano"
   ]
  },
  {
   "cell_type": "markdown",
   "id": "d43bf420-ae35-4f68-8ffd-cd58f45eb175",
   "metadata": {},
   "source": [
    "### Quanto leads por mês?"
   ]
  },
  {
   "cell_type": "markdown",
   "id": "651d1c09-1b83-4fa2-8195-7aec6a36511b",
   "metadata": {},
   "source": [
    "Temos uma variação de bem grande do numero de leads mensal, sendo que o mês como menor valor e o 11 com 135 lead, já o com maior valor e o 4 com 916 leads e uma edia de 541 leads mês."
   ]
  },
  {
   "cell_type": "code",
   "execution_count": 9,
   "id": "e1cdb412-3276-4f36-86bc-ed0c59f2808d",
   "metadata": {},
   "outputs": [
    {
     "data": {
      "image/png": "[encoded data removed]",
      "text/plain": [
       "<Figure size 1400x400 with 1 Axes>"
      ]
     },
     "metadata": {},
     "output_type": "display_data"
    }
   ],
   "source": [
    "# dados\n",
    "mes = dados.groupby([\"month\"])[\"c_mql\"].count().reset_index()\n",
    "mes.to_csv(r'C:\\Users\\ramos\\Desktop\\Studio Analise Dados\\My Own\\BI project\\Olist\\mes.csv') \n",
    "\n",
    "# grafico \n",
    "fig, ax = plt.subplots(figsize=(14,4))\n",
    "sns.lineplot(x=\"month\", y=\"c_mql\", data=mes, color='gray').set_title(\"Numero de leads Mensais\");"
   ]
  },
  {
   "cell_type": "markdown",
   "id": "88045776-be38-48e6-94e1-130e04c52163",
   "metadata": {},
   "source": [
    "### Quantos leads por semana?"
   ]
  },
  {
   "cell_type": "markdown",
   "id": "86ef531b-139c-408f-9778-1a8dd3f249dc",
   "metadata": {},
   "source": [
    "Temos uma media de 132 leads por semana, sendo que a semana que menos obteve leads foi n° 6 com apenas 31 leads e a que \n",
    "mais obteve leads n° 46 com 269 leads."
   ]
  },
  {
   "cell_type": "code",
   "execution_count": 161,
   "id": "9f74d476-96db-4a1f-9220-e9e2006332dd",
   "metadata": {},
   "outputs": [
    {
     "data": {
      "image/png": "[encoded data removed]",
      "text/plain": [
       "<Figure size 1500x400 with 1 Axes>"
      ]
     },
     "metadata": {},
     "output_type": "display_data"
    }
   ],
   "source": [
    "# dados\n",
    "semana = dados.groupby([\"week\"])[\"c_mql\"].count().reset_index()\n",
    "\n",
    "# grafico\n",
    "fig, ax = plt.subplots(figsize=(15,4))\n",
    "sns.lineplot(x=\"week\", y=\"c_mql\", data=semana, errorbar=None, color=\"gray\", alpha=0.7);"
   ]
  },
  {
   "cell_type": "markdown",
   "id": "a8aa95ac-c349-4140-ad42-65c4ea62c880",
   "metadata": {},
   "source": [
    "### Quantos dias do primeiro contato ate o fechamento?"
   ]
  },
  {
   "cell_type": "markdown",
   "id": "ad334735-f06e-4d98-bedf-f3533abc2bb5",
   "metadata": {},
   "source": [
    "A media de dias ate a conquista do cliente de fato e de 107 dias, sendo o menor tempo de 73 dias e o maior de 440 dias.\n",
    "\n",
    "Graficamento concluimos que a maior parte dos clientes demoram certa de 100 dias para ser torna cliente."
   ]
  },
  {
   "cell_type": "code",
   "execution_count": 95,
   "id": "f35e1f21-0732-4f66-9ce3-c713d1a19b9f",
   "metadata": {},
   "outputs": [],
   "source": [
    "# Construção do df de datas ref. ao contato\n",
    "data_primeira_ate_fechamento = dados[[\"id_close\",\"first_contact_Date\",\"won_date\",\"contato_primeiro_ate_fechamento\"]]\n",
    "data_primeira_ate_fechamento = (data_primeira_ate_fechamento\n",
    "                                .sort_values(by=\"won_date\",ascending=True)\n",
    "                                .drop_duplicates())\n",
    "\n",
    "# Mudando valor negativos da col. \"contato..\" para positivo\n",
    "data_primeira_ate_fechamento[\"contato_ate_fechamento\"] = data_primeira_ate_fechamento[\"contato_primeiro_ate_fechamento\"] * - 1\n",
    "data_primeira_ate_fechamento\n",
    "\n",
    "data_primeira_ate_fechamento.head()\n",
    "data_primeira_ate_fechamento.to_csv(r'C:\\Users\\ramos\\Desktop\\Studio Analise Dados\\My Own\\BI project\\Olist\\data_primeira_ate_fechamento.csv') "
   ]
  },
  {
   "cell_type": "code",
   "execution_count": 96,
   "id": "796f3343-3495-4519-b863-482b3a10fd49",
   "metadata": {},
   "outputs": [
    {
     "data": {
      "image/png": "[encoded data removed]",
      "text/plain": [
       "<Figure size 640x480 with 1 Axes>"
      ]
     },
     "metadata": {},
     "output_type": "display_data"
    }
   ],
   "source": [
    "# grafico\n",
    "sns.boxplot(y = data_primeira_ate_fechamento[\"contato_ate_fechamento\"], color='gray').set_title(\"Num. de Dias do primeiro contato ate fechamento\");"
   ]
  },
  {
   "cell_type": "markdown",
   "id": "970df691-2800-4395-a9b8-3224a7d7bc4f",
   "metadata": {},
   "source": [
    "## Demografico"
   ]
  },
  {
   "cell_type": "markdown",
   "id": "c38bf4b3-336c-4c94-aaa0-b19b8e1fc193",
   "metadata": {},
   "source": [
    "### Quais canais de origem mais geraram leads?"
   ]
  },
  {
   "cell_type": "markdown",
   "id": "f10e26c5-91ba-4322-94ad-270d795a9f62",
   "metadata": {},
   "source": [
    "Os canais com maior quantidade de leads geradas e o:\n",
    "    1° Pesquisa organica com um 1500 leads,\n",
    "    2° Pesquisa paga 1100 leads. \n",
    "\n",
    "Os demais rede sociais e email, estão abaixo de 800 leads gerados."
   ]
  },
  {
   "cell_type": "code",
   "execution_count": 6,
   "id": "5b998432-e9af-4eb8-96f0-98474b0ac470",
   "metadata": {},
   "outputs": [
    {
     "data": {
      "image/png": "[encoded data removed]",
      "text/plain": [
       "<Figure size 640x480 with 1 Axes>"
      ]
     },
     "metadata": {},
     "output_type": "display_data"
    }
   ],
   "source": [
    "# Estrutura\n",
    "canais = dados.groupby([\"origin\"])[\"c_mql\"].count().sort_values(ascending=False).reset_index()\n",
    "canais[\"mql_%\"] = round(canais[\"c_mql\"] / canais[\"c_mql\"].sum(),2)\n",
    "canais.head(5)\n",
    "\n",
    "#Grafico\n",
    "sns.barplot(x=\"c_mql\", y=\"origin\", data=canais.head(5), color='gray').set(title='Top canais de origem');\n",
    "# plt.savefig('top_canais.png')\n",
    "\n",
    "#dfi.export(canais, 'canais.png')\n",
    "# canais.to_csv('canais.csv', sep=',',index=False, encoding='utf-8' )"
   ]
  },
  {
   "cell_type": "markdown",
   "id": "bce5d306-4a36-4dad-8000-ed6f4cf284cc",
   "metadata": {},
   "source": [
    "### Quais os top 10 segmentos de cliente?"
   ]
  },
  {
   "cell_type": "markdown",
   "id": "60a06cab-0d66-43a7-b079-a1bb5b8ee7bf",
   "metadata": {},
   "source": [
    "Dos 10 primeiros segmentos o top 3 são decoração de casa 553 leads, saude/beleza 483 leads e \n",
    "acessorios de carro com 462 leads respectivamente."
   ]
  },
  {
   "cell_type": "code",
   "execution_count": 6,
   "id": "47477655-8ea9-4a83-8352-2262d3072909",
   "metadata": {},
   "outputs": [
    {
     "data": {
      "text/html": [
       "<div>\n",
       "<style scoped>\n",
       "    .dataframe tbody tr th:only-of-type {\n",
       "        vertical-align: middle;\n",
       "    }\n",
       "\n",
       "    .dataframe tbody tr th {\n",
       "        vertical-align: top;\n",
       "    }\n",
       "\n",
       "    .dataframe thead th {\n",
       "        text-align: right;\n",
       "    }\n",
       "</style>\n",
       "<table border=\"1\" class=\"dataframe\">\n",
       "  <thead>\n",
       "    <tr style=\"text-align: right;\">\n",
       "      <th></th>\n",
       "      <th>business_segmento</th>\n",
       "      <th>c_mql</th>\n",
       "    </tr>\n",
       "  </thead>\n",
       "  <tbody>\n",
       "    <tr>\n",
       "      <th>0</th>\n",
       "      <td>household_utilities</td>\n",
       "      <td>639</td>\n",
       "    </tr>\n",
       "    <tr>\n",
       "      <th>1</th>\n",
       "      <td>home_decor</td>\n",
       "      <td>631</td>\n",
       "    </tr>\n",
       "    <tr>\n",
       "      <th>2</th>\n",
       "      <td>car_accessories</td>\n",
       "      <td>602</td>\n",
       "    </tr>\n",
       "    <tr>\n",
       "      <th>3</th>\n",
       "      <td>construction_tools_house_garden</td>\n",
       "      <td>479</td>\n",
       "    </tr>\n",
       "    <tr>\n",
       "      <th>4</th>\n",
       "      <td>audio_video_electronics</td>\n",
       "      <td>478</td>\n",
       "    </tr>\n",
       "    <tr>\n",
       "      <th>5</th>\n",
       "      <td>health_beauty</td>\n",
       "      <td>451</td>\n",
       "    </tr>\n",
       "    <tr>\n",
       "      <th>6</th>\n",
       "      <td>pet</td>\n",
       "      <td>232</td>\n",
       "    </tr>\n",
       "    <tr>\n",
       "      <th>7</th>\n",
       "      <td>home_appliances</td>\n",
       "      <td>212</td>\n",
       "    </tr>\n",
       "    <tr>\n",
       "      <th>8</th>\n",
       "      <td>computers</td>\n",
       "      <td>187</td>\n",
       "    </tr>\n",
       "    <tr>\n",
       "      <th>9</th>\n",
       "      <td>sports_leisure</td>\n",
       "      <td>168</td>\n",
       "    </tr>\n",
       "  </tbody>\n",
       "</table>\n",
       "</div>"
      ],
      "text/plain": [
       "                 business_segmento  c_mql\n",
       "0              household_utilities    639\n",
       "1                       home_decor    631\n",
       "2                  car_accessories    602\n",
       "3  construction_tools_house_garden    479\n",
       "4          audio_video_electronics    478\n",
       "5                    health_beauty    451\n",
       "6                              pet    232\n",
       "7                  home_appliances    212\n",
       "8                        computers    187\n",
       "9                   sports_leisure    168"
      ]
     },
     "execution_count": 6,
     "metadata": {},
     "output_type": "execute_result"
    }
   ],
   "source": [
    "segmentos = (dados.groupby([\"business_segmento\"])[\"c_mql\"]\n",
    "             .count()\n",
    "             .sort_values(ascending=False)\n",
    "             .reset_index()\n",
    "             .head(10))\n",
    "segmentos"
   ]
  },
  {
   "cell_type": "markdown",
   "id": "d592c7a8-b543-4f4b-aea2-2896c95d0f65",
   "metadata": {},
   "source": [
    "### Quais top 10 segmentos por tipo de cliente"
   ]
  },
  {
   "cell_type": "markdown",
   "id": "b6eded43-0f02-4746-9c60-091ff531d816",
   "metadata": {},
   "source": [
    "Dos grupos temos diversos subgrupos, mas os principais de cada grupos é \n",
    "    Revendedores party, perfume e consoles de games,\n",
    "    Manufaturados instrumentos de musica, artesanato e acessorios de moda. \n",
    "\n",
    "Importante: Como um segmento tem diversos subgrupos. O que sig. que o valor e distribuido pelo num. total de leads e \n",
    "            podemos ter leads com mais de um subgrupo."
   ]
  },
  {
   "cell_type": "code",
   "execution_count": 10,
   "id": "f4e65755-a24b-4d11-8263-51f0ae0ac26e",
   "metadata": {},
   "outputs": [
    {
     "data": {
      "text/html": [
       "<div>\n",
       "<style scoped>\n",
       "    .dataframe tbody tr th:only-of-type {\n",
       "        vertical-align: middle;\n",
       "    }\n",
       "\n",
       "    .dataframe tbody tr th {\n",
       "        vertical-align: top;\n",
       "    }\n",
       "\n",
       "    .dataframe thead th {\n",
       "        text-align: right;\n",
       "    }\n",
       "</style>\n",
       "<table border=\"1\" class=\"dataframe\">\n",
       "  <thead>\n",
       "    <tr style=\"text-align: right;\">\n",
       "      <th></th>\n",
       "      <th>business_segmento</th>\n",
       "      <th>reseller</th>\n",
       "    </tr>\n",
       "  </thead>\n",
       "  <tbody>\n",
       "    <tr>\n",
       "      <th>0</th>\n",
       "      <td>party</td>\n",
       "      <td>3521.0</td>\n",
       "    </tr>\n",
       "    <tr>\n",
       "      <th>1</th>\n",
       "      <td>perfume</td>\n",
       "      <td>3347.5</td>\n",
       "    </tr>\n",
       "    <tr>\n",
       "      <th>2</th>\n",
       "      <td>games_consoles</td>\n",
       "      <td>2919.5</td>\n",
       "    </tr>\n",
       "    <tr>\n",
       "      <th>3</th>\n",
       "      <td>handcrafted</td>\n",
       "      <td>2509.5</td>\n",
       "    </tr>\n",
       "  </tbody>\n",
       "</table>\n",
       "</div>"
      ],
      "text/plain": [
       "  business_segmento  reseller\n",
       "0             party    3521.0\n",
       "1           perfume    3347.5\n",
       "2    games_consoles    2919.5\n",
       "3       handcrafted    2509.5"
      ]
     },
     "execution_count": 10,
     "metadata": {},
     "output_type": "execute_result"
    }
   ],
   "source": [
    "# Estrutura das subdivisões por segmento\n",
    "sub_segm = pd.pivot_table(dados, values=\"c_close\", index=[\"business_segmento\"], columns=[\"business_type\"])\n",
    "\n",
    "# Subdivisões dos revendedores\n",
    "sub_rev = round(sub_segm[\"reseller\"].sort_values(ascending=False).reset_index(),2)\n",
    "sub_rev.head(4)"
   ]
  },
  {
   "cell_type": "code",
   "execution_count": 43,
   "id": "45d18f2d-203c-4311-88a8-eb2b394241da",
   "metadata": {},
   "outputs": [
    {
     "data": {
      "text/html": [
       "<div>\n",
       "<style scoped>\n",
       "    .dataframe tbody tr th:only-of-type {\n",
       "        vertical-align: middle;\n",
       "    }\n",
       "\n",
       "    .dataframe tbody tr th {\n",
       "        vertical-align: top;\n",
       "    }\n",
       "\n",
       "    .dataframe thead th {\n",
       "        text-align: right;\n",
       "    }\n",
       "</style>\n",
       "<table border=\"1\" class=\"dataframe\">\n",
       "  <thead>\n",
       "    <tr style=\"text-align: right;\">\n",
       "      <th></th>\n",
       "      <th>business_segmento</th>\n",
       "      <th>manufacturer</th>\n",
       "    </tr>\n",
       "  </thead>\n",
       "  <tbody>\n",
       "    <tr>\n",
       "      <th>0</th>\n",
       "      <td>music_instruments</td>\n",
       "      <td>3599.50</td>\n",
       "    </tr>\n",
       "    <tr>\n",
       "      <th>1</th>\n",
       "      <td>handcrafted</td>\n",
       "      <td>2924.67</td>\n",
       "    </tr>\n",
       "    <tr>\n",
       "      <th>2</th>\n",
       "      <td>fashion_accessories</td>\n",
       "      <td>2745.83</td>\n",
       "    </tr>\n",
       "    <tr>\n",
       "      <th>3</th>\n",
       "      <td>audio_video_electronics</td>\n",
       "      <td>2608.10</td>\n",
       "    </tr>\n",
       "  </tbody>\n",
       "</table>\n",
       "</div>"
      ],
      "text/plain": [
       "         business_segmento  manufacturer\n",
       "0        music_instruments       3599.50\n",
       "1              handcrafted       2924.67\n",
       "2      fashion_accessories       2745.83\n",
       "3  audio_video_electronics       2608.10"
      ]
     },
     "execution_count": 43,
     "metadata": {},
     "output_type": "execute_result"
    }
   ],
   "source": [
    "# Subdivisões dos manufaturados\n",
    "sub_rev = round(sub_segm[\"manufacturer\"].sort_values(ascending=False).reset_index(),2)\n",
    "sub_rev.head(4)"
   ]
  },
  {
   "cell_type": "markdown",
   "id": "e309c3c1-4855-4c57-bb1d-415c9bc67c73",
   "metadata": {},
   "source": [
    "### Quais comportamentos de clientes mais comuns?"
   ]
  },
  {
   "cell_type": "markdown",
   "id": "8f20f621-55cb-4768-bd75-03de66568aaa",
   "metadata": {},
   "source": [
    "O Comportamento mais comum e o de 'cão' com mais de 2500 fechamento, sendo que esse comportamento quase 3x\n",
    "mais fechamento e o segundo que e o de 'aguia' com menos de 1000 fechamento."
   ]
  },
  {
   "cell_type": "code",
   "execution_count": 3,
   "id": "e17057fc-9a95-4ffa-8009-73fe06286853",
   "metadata": {},
   "outputs": [
    {
     "data": {
      "image/png": "[encoded data removed]",
      "text/plain": [
       "<Figure size 640x480 with 1 Axes>"
      ]
     },
     "metadata": {},
     "output_type": "display_data"
    }
   ],
   "source": [
    "# Estrutura\n",
    "comportamentos = (\n",
    "                dados.groupby([\"lead_behavior\"])['c_close']\n",
    "                .count()\n",
    "                .sort_values(ascending=False)\n",
    "                .reset_index())\n",
    "comportamentos[\"d_close\"] = round(comportamentos[\"c_close\"] / comportamentos[\"c_close\"].sum(),2)\n",
    "comportamentos\n",
    "\n",
    "# Grafico\n",
    "sns.barplot(y=\"c_close\",x=\"lead_behavior\", data=comportamentos, color='gray').set(title='Principais Comportamentos');"
   ]
  },
  {
   "cell_type": "markdown",
   "id": "0fb12308-1ed3-406b-9343-40b3d2c44ee8",
   "metadata": {},
   "source": [
    "### Quais tipos de clientes mais comuns?"
   ]
  },
  {
   "cell_type": "markdown",
   "id": "34fd01eb-fe7b-4632-923b-ee359e302fd5",
   "metadata": {},
   "source": [
    "O principal tipo/grupo de lead e o de revenda com mais de 2500 leads, e em seguida o manufatura com 1200 leads."
   ]
  },
  {
   "cell_type": "code",
   "execution_count": 6,
   "id": "75776b31-b991-4b3a-90e2-123a4b637d31",
   "metadata": {},
   "outputs": [
    {
     "data": {
      "image/png": "[encoded data removed]",
      "text/plain": [
       "<Figure size 640x480 with 1 Axes>"
      ]
     },
     "metadata": {},
     "output_type": "display_data"
    }
   ],
   "source": [
    "# estrutura\n",
    "leads = (dados.groupby([\"business_type\"])[\"c_mql\"]\n",
    "             .count()\n",
    "             .sort_values(ascending=False)\n",
    "             .reset_index())\n",
    "leads[\"c_mql %\"] = round(leads[\"c_mql\"] / leads[\"c_mql\"].sum(),2)\n",
    "\n",
    "# Grafico\n",
    "sns.barplot(x=\"business_type\", y=\"c_mql\", data=leads, color=\"gray\").set_title(\"Principais tipos de empresas\");"
   ]
  },
  {
   "cell_type": "markdown",
   "id": "2126f609-80b3-445d-a2f3-3e758b7ad66b",
   "metadata": {},
   "source": [
    "## Porque da explosão do numero de leads no mês 2 ao 4?"
   ]
  },
  {
   "cell_type": "markdown",
   "id": "3eddc7ab-df0e-4171-98f5-fcf05573425a",
   "metadata": {},
   "source": [
    "### Temos uma mudança nas fontes de leads?"
   ]
  },
  {
   "cell_type": "markdown",
   "id": "3c8287e8-be32-444d-a0eb-898a7114e59b",
   "metadata": {},
   "source": [
    "Não, as princpais fontes de dados para o nivel MQL não mudou, só o nivel percentual de obtenção. \n",
    "\n",
    "Sendo Pesquisa Organica 32%, Pesquisa Paga 19% e Redes Sociais 17%."
   ]
  },
  {
   "cell_type": "code",
   "execution_count": 16,
   "id": "7222723b-a44a-4500-832e-d08da54d4308",
   "metadata": {},
   "outputs": [
    {
     "data": {
      "text/html": [
       "<div>\n",
       "<style scoped>\n",
       "    .dataframe tbody tr th:only-of-type {\n",
       "        vertical-align: middle;\n",
       "    }\n",
       "\n",
       "    .dataframe tbody tr th {\n",
       "        vertical-align: top;\n",
       "    }\n",
       "\n",
       "    .dataframe thead th {\n",
       "        text-align: right;\n",
       "    }\n",
       "</style>\n",
       "<table border=\"1\" class=\"dataframe\">\n",
       "  <thead>\n",
       "    <tr style=\"text-align: right;\">\n",
       "      <th></th>\n",
       "      <th>origin</th>\n",
       "      <th>c_mql</th>\n",
       "      <th>mql_%</th>\n",
       "    </tr>\n",
       "  </thead>\n",
       "  <tbody>\n",
       "    <tr>\n",
       "      <th>0</th>\n",
       "      <td>organic_search</td>\n",
       "      <td>339</td>\n",
       "      <td>0.32</td>\n",
       "    </tr>\n",
       "    <tr>\n",
       "      <th>1</th>\n",
       "      <td>paid_search</td>\n",
       "      <td>200</td>\n",
       "      <td>0.19</td>\n",
       "    </tr>\n",
       "    <tr>\n",
       "      <th>2</th>\n",
       "      <td>social</td>\n",
       "      <td>184</td>\n",
       "      <td>0.17</td>\n",
       "    </tr>\n",
       "    <tr>\n",
       "      <th>3</th>\n",
       "      <td>unknown</td>\n",
       "      <td>156</td>\n",
       "      <td>0.15</td>\n",
       "    </tr>\n",
       "    <tr>\n",
       "      <th>4</th>\n",
       "      <td>email</td>\n",
       "      <td>68</td>\n",
       "      <td>0.06</td>\n",
       "    </tr>\n",
       "    <tr>\n",
       "      <th>5</th>\n",
       "      <td>direct_traffic</td>\n",
       "      <td>52</td>\n",
       "      <td>0.05</td>\n",
       "    </tr>\n",
       "    <tr>\n",
       "      <th>6</th>\n",
       "      <td>referral</td>\n",
       "      <td>30</td>\n",
       "      <td>0.03</td>\n",
       "    </tr>\n",
       "    <tr>\n",
       "      <th>7</th>\n",
       "      <td>other</td>\n",
       "      <td>19</td>\n",
       "      <td>0.02</td>\n",
       "    </tr>\n",
       "    <tr>\n",
       "      <th>8</th>\n",
       "      <td>display</td>\n",
       "      <td>13</td>\n",
       "      <td>0.01</td>\n",
       "    </tr>\n",
       "    <tr>\n",
       "      <th>9</th>\n",
       "      <td>other_publicities</td>\n",
       "      <td>11</td>\n",
       "      <td>0.01</td>\n",
       "    </tr>\n",
       "  </tbody>\n",
       "</table>\n",
       "</div>"
      ],
      "text/plain": [
       "              origin  c_mql  mql_%\n",
       "0     organic_search    339   0.32\n",
       "1        paid_search    200   0.19\n",
       "2             social    184   0.17\n",
       "3            unknown    156   0.15\n",
       "4              email     68   0.06\n",
       "5     direct_traffic     52   0.05\n",
       "6           referral     30   0.03\n",
       "7              other     19   0.02\n",
       "8            display     13   0.01\n",
       "9  other_publicities     11   0.01"
      ]
     },
     "execution_count": 16,
     "metadata": {},
     "output_type": "execute_result"
    }
   ],
   "source": [
    "# Dados'limitando aos meses que desejo'\n",
    "d1 = dados[dados[\"month\"] >= 2] \n",
    "d2 = d1[d1[\"month\"] < 4]\n",
    "\n",
    "# Estrutura origem\n",
    "f_df = d2.groupby([\"origin\"])[\"c_mql\"].count().sort_values(ascending=False).reset_index()\n",
    "f_df[\"mql_%\"] = round(f_df[\"c_mql\"] / f_df[\"c_mql\"].sum(),2)\n",
    "f_df"
   ]
  },
  {
   "cell_type": "markdown",
   "id": "94a8c1e7-6476-4ff2-a27e-dd721324e866",
   "metadata": {},
   "source": [
    "#### Temos uma mudança das fontes no nivel close?"
   ]
  },
  {
   "cell_type": "markdown",
   "id": "5494e8fd-a9d7-4fbe-8366-45255145081a",
   "metadata": {},
   "source": [
    "No caso no proximo nivel/etada do funil de marketing, temos sim uma mudança dos principais canais de obtenção de leads.\n",
    "\n",
    "Sendo Redes Socias 29%, Pesquisa Organica 24%, Pesquisa Paga 18%."
   ]
  },
  {
   "cell_type": "code",
   "execution_count": 17,
   "id": "6ad3e220-7237-42dd-ac64-4fefa58b98da",
   "metadata": {},
   "outputs": [
    {
     "data": {
      "text/html": [
       "<div>\n",
       "<style scoped>\n",
       "    .dataframe tbody tr th:only-of-type {\n",
       "        vertical-align: middle;\n",
       "    }\n",
       "\n",
       "    .dataframe tbody tr th {\n",
       "        vertical-align: top;\n",
       "    }\n",
       "\n",
       "    .dataframe thead th {\n",
       "        text-align: right;\n",
       "    }\n",
       "</style>\n",
       "<table border=\"1\" class=\"dataframe\">\n",
       "  <thead>\n",
       "    <tr style=\"text-align: right;\">\n",
       "      <th></th>\n",
       "      <th>origin</th>\n",
       "      <th>c_close</th>\n",
       "      <th>close_%</th>\n",
       "    </tr>\n",
       "  </thead>\n",
       "  <tbody>\n",
       "    <tr>\n",
       "      <th>0</th>\n",
       "      <td>social</td>\n",
       "      <td>320</td>\n",
       "      <td>0.29</td>\n",
       "    </tr>\n",
       "    <tr>\n",
       "      <th>1</th>\n",
       "      <td>organic_search</td>\n",
       "      <td>260</td>\n",
       "      <td>0.24</td>\n",
       "    </tr>\n",
       "    <tr>\n",
       "      <th>2</th>\n",
       "      <td>paid_search</td>\n",
       "      <td>201</td>\n",
       "      <td>0.18</td>\n",
       "    </tr>\n",
       "    <tr>\n",
       "      <th>3</th>\n",
       "      <td>unknown</td>\n",
       "      <td>104</td>\n",
       "      <td>0.09</td>\n",
       "    </tr>\n",
       "    <tr>\n",
       "      <th>4</th>\n",
       "      <td>direct_traffic</td>\n",
       "      <td>76</td>\n",
       "      <td>0.07</td>\n",
       "    </tr>\n",
       "    <tr>\n",
       "      <th>5</th>\n",
       "      <td>display</td>\n",
       "      <td>72</td>\n",
       "      <td>0.07</td>\n",
       "    </tr>\n",
       "    <tr>\n",
       "      <th>6</th>\n",
       "      <td>email</td>\n",
       "      <td>55</td>\n",
       "      <td>0.05</td>\n",
       "    </tr>\n",
       "    <tr>\n",
       "      <th>7</th>\n",
       "      <td>referral</td>\n",
       "      <td>10</td>\n",
       "      <td>0.01</td>\n",
       "    </tr>\n",
       "    <tr>\n",
       "      <th>8</th>\n",
       "      <td>other</td>\n",
       "      <td>0</td>\n",
       "      <td>0.00</td>\n",
       "    </tr>\n",
       "    <tr>\n",
       "      <th>9</th>\n",
       "      <td>other_publicities</td>\n",
       "      <td>0</td>\n",
       "      <td>0.00</td>\n",
       "    </tr>\n",
       "  </tbody>\n",
       "</table>\n",
       "</div>"
      ],
      "text/plain": [
       "              origin  c_close  close_%\n",
       "0             social      320     0.29\n",
       "1     organic_search      260     0.24\n",
       "2        paid_search      201     0.18\n",
       "3            unknown      104     0.09\n",
       "4     direct_traffic       76     0.07\n",
       "5            display       72     0.07\n",
       "6              email       55     0.05\n",
       "7           referral       10     0.01\n",
       "8              other        0     0.00\n",
       "9  other_publicities        0     0.00"
      ]
     },
     "execution_count": 17,
     "metadata": {},
     "output_type": "execute_result"
    }
   ],
   "source": [
    "# Dados'limitando aos meses que desejo'\n",
    "d1 = dados[dados[\"month\"] >= 2] \n",
    "d2 = d1[d1[\"month\"] < 4]\n",
    "\n",
    "# Estrutura origem\n",
    "f_df = d2.groupby([\"origin\"])[\"c_close\"].count().sort_values(ascending=False).reset_index()\n",
    "f_df[\"close_%\"] = round(f_df[\"c_close\"] / f_df[\"c_close\"].sum(),2)\n",
    "f_df"
   ]
  },
  {
   "cell_type": "markdown",
   "id": "108a217e-2c34-48d7-a3b4-655d63f7b838",
   "metadata": {},
   "source": [
    "### Temos uma mudança do tipo de lead?"
   ]
  },
  {
   "cell_type": "markdown",
   "id": "bde70e7c-6866-4824-bc05-bb9bc9808186",
   "metadata": {},
   "source": [
    "Não, não temos uma mudança do tipo predominantes de lead durante o periodo de explosão."
   ]
  },
  {
   "cell_type": "code",
   "execution_count": 20,
   "id": "abd29eb3-fd23-4894-a2dc-a5ae39f64efb",
   "metadata": {},
   "outputs": [
    {
     "data": {
      "text/html": [
       "<div>\n",
       "<style scoped>\n",
       "    .dataframe tbody tr th:only-of-type {\n",
       "        vertical-align: middle;\n",
       "    }\n",
       "\n",
       "    .dataframe tbody tr th {\n",
       "        vertical-align: top;\n",
       "    }\n",
       "\n",
       "    .dataframe thead th {\n",
       "        text-align: right;\n",
       "    }\n",
       "</style>\n",
       "<table border=\"1\" class=\"dataframe\">\n",
       "  <thead>\n",
       "    <tr style=\"text-align: right;\">\n",
       "      <th></th>\n",
       "      <th>business_type</th>\n",
       "      <th>c_mql</th>\n",
       "      <th>c_mql %</th>\n",
       "    </tr>\n",
       "  </thead>\n",
       "  <tbody>\n",
       "    <tr>\n",
       "      <th>0</th>\n",
       "      <td>reseller</td>\n",
       "      <td>4062</td>\n",
       "      <td>0.75</td>\n",
       "    </tr>\n",
       "    <tr>\n",
       "      <th>1</th>\n",
       "      <td>manufacturer</td>\n",
       "      <td>1238</td>\n",
       "      <td>0.23</td>\n",
       "    </tr>\n",
       "    <tr>\n",
       "      <th>2</th>\n",
       "      <td>other</td>\n",
       "      <td>115</td>\n",
       "      <td>0.02</td>\n",
       "    </tr>\n",
       "  </tbody>\n",
       "</table>\n",
       "</div>"
      ],
      "text/plain": [
       "  business_type  c_mql  c_mql %\n",
       "0      reseller   4062     0.75\n",
       "1  manufacturer   1238     0.23\n",
       "2         other    115     0.02"
      ]
     },
     "execution_count": 20,
     "metadata": {},
     "output_type": "execute_result"
    }
   ],
   "source": [
    "d1 = dados[dados[\"month\"] >= 2] \n",
    "d2 = d1[d1[\"month\"] < 4]\n",
    "\n",
    "tipo = (d1.groupby([\"business_type\"])[\"c_mql\"]\n",
    "             .count()\n",
    "             .sort_values(ascending=False)\n",
    "             .reset_index())\n",
    "tipo[\"c_mql %\"] = round(tipo[\"c_mql\"] / tipo[\"c_mql\"].sum(),2)\n",
    "tipo"
   ]
  },
  {
   "cell_type": "markdown",
   "id": "cc3265e6-9130-4b23-adf7-074a433da26d",
   "metadata": {},
   "source": [
    "### Temos uma mudança no Segmento do lead?"
   ]
  },
  {
   "cell_type": "markdown",
   "id": "740d5494-ef37-4332-b474-27ce5b8cd5ac",
   "metadata": {},
   "source": [
    "Sim, temos mudança de posicionamento do segmento de lead sendo antes os principais Heath, Car acessorioes e Perfume. E \n",
    "agora são Ferramentas de construção de jardim, Decoração de Casa e Acessorios de Saude e beleza."
   ]
  },
  {
   "cell_type": "code",
   "execution_count": 17,
   "id": "8dfe6a15-d7fd-40f2-8304-5ed3265f3df6",
   "metadata": {},
   "outputs": [
    {
     "data": {
      "text/html": [
       "<div>\n",
       "<style scoped>\n",
       "    .dataframe tbody tr th:only-of-type {\n",
       "        vertical-align: middle;\n",
       "    }\n",
       "\n",
       "    .dataframe tbody tr th {\n",
       "        vertical-align: top;\n",
       "    }\n",
       "\n",
       "    .dataframe thead th {\n",
       "        text-align: right;\n",
       "    }\n",
       "</style>\n",
       "<table border=\"1\" class=\"dataframe\">\n",
       "  <thead>\n",
       "    <tr style=\"text-align: right;\">\n",
       "      <th></th>\n",
       "      <th>business_segmento</th>\n",
       "      <th>c_close</th>\n",
       "    </tr>\n",
       "  </thead>\n",
       "  <tbody>\n",
       "    <tr>\n",
       "      <th>0</th>\n",
       "      <td>construction_tools_house_garden</td>\n",
       "      <td>160</td>\n",
       "    </tr>\n",
       "    <tr>\n",
       "      <th>1</th>\n",
       "      <td>home_decor</td>\n",
       "      <td>140</td>\n",
       "    </tr>\n",
       "    <tr>\n",
       "      <th>2</th>\n",
       "      <td>health_beauty</td>\n",
       "      <td>119</td>\n",
       "    </tr>\n",
       "    <tr>\n",
       "      <th>3</th>\n",
       "      <td>household_utilities</td>\n",
       "      <td>112</td>\n",
       "    </tr>\n",
       "    <tr>\n",
       "      <th>4</th>\n",
       "      <td>car_accessories</td>\n",
       "      <td>112</td>\n",
       "    </tr>\n",
       "    <tr>\n",
       "      <th>5</th>\n",
       "      <td>audio_video_electronics</td>\n",
       "      <td>84</td>\n",
       "    </tr>\n",
       "    <tr>\n",
       "      <th>6</th>\n",
       "      <td>pet</td>\n",
       "      <td>54</td>\n",
       "    </tr>\n",
       "    <tr>\n",
       "      <th>7</th>\n",
       "      <td>sports_leisure</td>\n",
       "      <td>42</td>\n",
       "    </tr>\n",
       "    <tr>\n",
       "      <th>8</th>\n",
       "      <td>food_supplement</td>\n",
       "      <td>30</td>\n",
       "    </tr>\n",
       "    <tr>\n",
       "      <th>9</th>\n",
       "      <td>food_drink</td>\n",
       "      <td>30</td>\n",
       "    </tr>\n",
       "  </tbody>\n",
       "</table>\n",
       "</div>"
      ],
      "text/plain": [
       "                 business_segmento  c_close\n",
       "0  construction_tools_house_garden      160\n",
       "1                       home_decor      140\n",
       "2                    health_beauty      119\n",
       "3              household_utilities      112\n",
       "4                  car_accessories      112\n",
       "5          audio_video_electronics       84\n",
       "6                              pet       54\n",
       "7                   sports_leisure       42\n",
       "8                  food_supplement       30\n",
       "9                       food_drink       30"
      ]
     },
     "execution_count": 17,
     "metadata": {},
     "output_type": "execute_result"
    }
   ],
   "source": [
    "d1 = dados[dados[\"month\"] >= 2] \n",
    "d2 = d1[d1[\"month\"] < 4]\n",
    "\n",
    "segmentos = (d2.groupby([\"business_segmento\"])[\"c_close\"]\n",
    "             .count()\n",
    "             .sort_values(ascending=False)\n",
    "             .reset_index()\n",
    "             .head(10))\n",
    "segmentos"
   ]
  },
  {
   "cell_type": "code",
   "execution_count": null,
   "id": "657a0524-b2c7-4a0a-b02e-b684c372ca37",
   "metadata": {},
   "outputs": [
    {
     "data": {
      "text/html": [
       "<div>\n",
       "<style scoped>\n",
       "    .dataframe tbody tr th:only-of-type {\n",
       "        vertical-align: middle;\n",
       "    }\n",
       "\n",
       "    .dataframe tbody tr th {\n",
       "        vertical-align: top;\n",
       "    }\n",
       "\n",
       "    .dataframe thead th {\n",
       "        text-align: right;\n",
       "    }\n",
       "</style>\n",
       "<table border=\"1\" class=\"dataframe\">\n",
       "  <thead>\n",
       "    <tr style=\"text-align: right;\">\n",
       "      <th></th>\n",
       "      <th>business_segmento</th>\n",
       "      <th>manufacturer</th>\n",
       "    </tr>\n",
       "  </thead>\n",
       "  <tbody>\n",
       "    <tr>\n",
       "      <th>0</th>\n",
       "      <td>small_appliances</td>\n",
       "      <td>3123.00</td>\n",
       "    </tr>\n",
       "    <tr>\n",
       "      <th>1</th>\n",
       "      <td>audio_video_electronics</td>\n",
       "      <td>2285.83</td>\n",
       "    </tr>\n",
       "    <tr>\n",
       "      <th>2</th>\n",
       "      <td>toys</td>\n",
       "      <td>2264.50</td>\n",
       "    </tr>\n",
       "    <tr>\n",
       "      <th>3</th>\n",
       "      <td>fashion_accessories</td>\n",
       "      <td>2179.50</td>\n",
       "    </tr>\n",
       "  </tbody>\n",
       "</table>\n",
       "</div>"
      ],
      "text/plain": [
       "         business_segmento  manufacturer\n",
       "0         small_appliances       3123.00\n",
       "1  audio_video_electronics       2285.83\n",
       "2                     toys       2264.50\n",
       "3      fashion_accessories       2179.50"
      ]
     },
     "execution_count": 15,
     "metadata": {},
     "output_type": "execute_result"
    }
   ],
   "source": [
    "d1 = dados[dados[\"month\"] >= 2] \n",
    "d2 = d1[d1[\"month\"] <= 4]\n",
    "\n",
    "# Estrutura das subdivisões por segmento\n",
    "sub_segm = pd.pivot_table(d2, values=\"c_close\", index=[\"business_segmento\"], columns=[\"business_type\"])\n",
    "\n",
    "# Subdivisões dos revendedores\n",
    "sub_rev = round(sub_segm[\"manufacturer\"].sort_values(ascending=False).reset_index(),2)\n",
    "sub_rev.head(4)"
   ]
  },
  {
   "cell_type": "markdown",
   "id": "b4a5f814-247f-407a-a847-01729f08f57d",
   "metadata": {
    "tags": []
   },
   "source": [
    "### Temos uma mudança no comportamento do lead?"
   ]
  },
  {
   "cell_type": "markdown",
   "id": "3c70b495-4e2f-4951-8ab4-b87fcbf1bc07",
   "metadata": {},
   "source": [
    "Temos uma variação de comportamentos, mas no geral o mais incomum e o Wolf que teve uma grande \n",
    "queda no mês 3. Fora esse os demais tiveram um continuo crescimento nesse periodol."
   ]
  },
  {
   "cell_type": "code",
   "execution_count": 36,
   "id": "5747a719-554c-4ab3-8f2b-1ba98777cf88",
   "metadata": {},
   "outputs": [
    {
     "data": {
      "image/png": "[encoded data removed]",
      "text/plain": [
       "<Figure size 640x480 with 1 Axes>"
      ]
     },
     "metadata": {},
     "output_type": "display_data"
    }
   ],
   "source": [
    "a1 = dados[dados[\"month\"] >= 2]\n",
    "a2 = a1[a1[\"month\"] <= 4]\n",
    "\n",
    "sns.lineplot(x=\"month\", y=\"c_mql\", data=a2, hue=\"lead_behavior\", errorbar=None, palette=\"tab10\");"
   ]
  },
  {
   "cell_type": "markdown",
   "id": "11ce9262-5efc-4791-b0ed-28cf2645d746",
   "metadata": {},
   "source": [
    "#### Temos uma mudança de comportamento no nivel Close?"
   ]
  },
  {
   "cell_type": "markdown",
   "id": "628e8d80-f412-4300-aa06-ef121ee0705c",
   "metadata": {},
   "source": [
    "Já no proximo nivel tivemos uma grande e rapida subida, mas ao mesmo tempo uma grande descida \n",
    "em absolutamente TODOS os comportamentos."
   ]
  },
  {
   "cell_type": "code",
   "execution_count": 37,
   "id": "2e9dcee3-2667-4bf8-b0fe-6b8e91ab9b73",
   "metadata": {},
   "outputs": [
    {
     "data": {
      "image/png": "[encoded data removed]",
      "text/plain": [
       "<Figure size 640x480 with 1 Axes>"
      ]
     },
     "metadata": {},
     "output_type": "display_data"
    }
   ],
   "source": [
    "a1 = dados[dados[\"month\"] >= 2]\n",
    "a2 = a1[a1[\"month\"] <= 4]\n",
    "\n",
    "sns.lineplot(x=\"month\", y=\"c_close\", data=a2, hue=\"lead_behavior\", errorbar=None, palette=\"tab10\");"
   ]
  },
  {
   "cell_type": "markdown",
   "id": "1b5142c3-2f04-4df1-a68c-91f85e2b69b5",
   "metadata": {
    "tags": []
   },
   "source": [
    "# Porque temos uma queda no mumero de lead no mês 7 ao 10?"
   ]
  },
  {
   "cell_type": "markdown",
   "id": "a50f1791-4194-4e47-bf48-5b9b27b17007",
   "metadata": {
    "tags": []
   },
   "source": [
    "### Temos mudanças nas fontes nesse periodo?"
   ]
  },
  {
   "cell_type": "markdown",
   "id": "1aba6e78-8416-4395-9650-5d28c7722e8b",
   "metadata": {},
   "source": [
    "Não, o que indica que a mudança de comportamento não pode ser identificado pelas principais\n",
    "fontes de dados especificamento. Isso é o top 3 continuar o mesmo nesse periodo."
   ]
  },
  {
   "cell_type": "code",
   "execution_count": 72,
   "id": "a4392628-a877-4d71-9a6f-e2f7c1fe8961",
   "metadata": {},
   "outputs": [
    {
     "data": {
      "text/html": [
       "<div>\n",
       "<style scoped>\n",
       "    .dataframe tbody tr th:only-of-type {\n",
       "        vertical-align: middle;\n",
       "    }\n",
       "\n",
       "    .dataframe tbody tr th {\n",
       "        vertical-align: top;\n",
       "    }\n",
       "\n",
       "    .dataframe thead th {\n",
       "        text-align: right;\n",
       "    }\n",
       "</style>\n",
       "<table border=\"1\" class=\"dataframe\">\n",
       "  <thead>\n",
       "    <tr style=\"text-align: right;\">\n",
       "      <th></th>\n",
       "      <th>origin</th>\n",
       "      <th>c_mql</th>\n",
       "    </tr>\n",
       "  </thead>\n",
       "  <tbody>\n",
       "    <tr>\n",
       "      <th>0</th>\n",
       "      <td>organic_search</td>\n",
       "      <td>522</td>\n",
       "    </tr>\n",
       "    <tr>\n",
       "      <th>1</th>\n",
       "      <td>paid_search</td>\n",
       "      <td>398</td>\n",
       "    </tr>\n",
       "    <tr>\n",
       "      <th>2</th>\n",
       "      <td>social</td>\n",
       "      <td>263</td>\n",
       "    </tr>\n",
       "    <tr>\n",
       "      <th>3</th>\n",
       "      <td>unknown</td>\n",
       "      <td>252</td>\n",
       "    </tr>\n",
       "    <tr>\n",
       "      <th>4</th>\n",
       "      <td>email</td>\n",
       "      <td>122</td>\n",
       "    </tr>\n",
       "  </tbody>\n",
       "</table>\n",
       "</div>"
      ],
      "text/plain": [
       "           origin  c_mql\n",
       "0  organic_search    522\n",
       "1     paid_search    398\n",
       "2          social    263\n",
       "3         unknown    252\n",
       "4           email    122"
      ]
     },
     "execution_count": 72,
     "metadata": {},
     "output_type": "execute_result"
    }
   ],
   "source": [
    "f = dados[dados[\"month\"] >= 7]\n",
    "f1 = f[f[\"month\"] <= 10]\n",
    "\n",
    "f1.groupby([\"origin\"])[\"c_mql\"].count().sort_values(ascending=False).reset_index().head()"
   ]
  },
  {
   "cell_type": "markdown",
   "id": "9021acdc-a9b5-4dd6-8083-43015c5e80f2",
   "metadata": {},
   "source": [
    "#### Temos mudança de fonte no nivel Close?"
   ]
  },
  {
   "cell_type": "markdown",
   "id": "e622205c-23fa-42ee-9636-2c19527a555d",
   "metadata": {},
   "source": [
    "Já nesse nivel tivemos apenas UM mudança de posição, no qual a rede social ficou acima de \n",
    "pesquisa paga."
   ]
  },
  {
   "cell_type": "code",
   "execution_count": 54,
   "id": "5ef2f18b-bd62-4f9f-9aa1-bb112bc00048",
   "metadata": {},
   "outputs": [
    {
     "data": {
      "text/html": [
       "<div>\n",
       "<style scoped>\n",
       "    .dataframe tbody tr th:only-of-type {\n",
       "        vertical-align: middle;\n",
       "    }\n",
       "\n",
       "    .dataframe tbody tr th {\n",
       "        vertical-align: top;\n",
       "    }\n",
       "\n",
       "    .dataframe thead th {\n",
       "        text-align: right;\n",
       "    }\n",
       "</style>\n",
       "<table border=\"1\" class=\"dataframe\">\n",
       "  <thead>\n",
       "    <tr style=\"text-align: right;\">\n",
       "      <th></th>\n",
       "      <th>origin</th>\n",
       "      <th>c_close</th>\n",
       "    </tr>\n",
       "  </thead>\n",
       "  <tbody>\n",
       "    <tr>\n",
       "      <th>0</th>\n",
       "      <td>organic_search</td>\n",
       "      <td>174</td>\n",
       "    </tr>\n",
       "    <tr>\n",
       "      <th>1</th>\n",
       "      <td>social</td>\n",
       "      <td>122</td>\n",
       "    </tr>\n",
       "    <tr>\n",
       "      <th>2</th>\n",
       "      <td>paid_search</td>\n",
       "      <td>80</td>\n",
       "    </tr>\n",
       "    <tr>\n",
       "      <th>3</th>\n",
       "      <td>unknown</td>\n",
       "      <td>72</td>\n",
       "    </tr>\n",
       "    <tr>\n",
       "      <th>4</th>\n",
       "      <td>email</td>\n",
       "      <td>67</td>\n",
       "    </tr>\n",
       "  </tbody>\n",
       "</table>\n",
       "</div>"
      ],
      "text/plain": [
       "           origin  c_close\n",
       "0  organic_search      174\n",
       "1          social      122\n",
       "2     paid_search       80\n",
       "3         unknown       72\n",
       "4           email       67"
      ]
     },
     "execution_count": 54,
     "metadata": {},
     "output_type": "execute_result"
    }
   ],
   "source": [
    "f = dados[dados[\"month\"] >= 7]\n",
    "f1 = f[f[\"month\"] <= 10]\n",
    "\n",
    "f1.groupby([\"origin\"])[\"c_close\"].count().sort_values(ascending=False).reset_index().head()"
   ]
  },
  {
   "cell_type": "markdown",
   "id": "9477b524-ff2d-43f0-bbb1-526812dee1ad",
   "metadata": {},
   "source": [
    "### Temos mudança do tipo de lead?"
   ]
  },
  {
   "cell_type": "markdown",
   "id": "4fd9362b-ad3a-4d4a-b96f-4b6e2933aa93",
   "metadata": {},
   "source": [
    "Não, não temos uma mudança."
   ]
  },
  {
   "cell_type": "code",
   "execution_count": 42,
   "id": "cc08f2e8-2bdd-4898-8422-93e0f6290759",
   "metadata": {},
   "outputs": [
    {
     "data": {
      "text/html": [
       "<div>\n",
       "<style scoped>\n",
       "    .dataframe tbody tr th:only-of-type {\n",
       "        vertical-align: middle;\n",
       "    }\n",
       "\n",
       "    .dataframe tbody tr th {\n",
       "        vertical-align: top;\n",
       "    }\n",
       "\n",
       "    .dataframe thead th {\n",
       "        text-align: right;\n",
       "    }\n",
       "</style>\n",
       "<table border=\"1\" class=\"dataframe\">\n",
       "  <thead>\n",
       "    <tr style=\"text-align: right;\">\n",
       "      <th></th>\n",
       "      <th>business_type</th>\n",
       "      <th>c_mql</th>\n",
       "      <th>c_mql %</th>\n",
       "    </tr>\n",
       "  </thead>\n",
       "  <tbody>\n",
       "    <tr>\n",
       "      <th>0</th>\n",
       "      <td>reseller</td>\n",
       "      <td>1387</td>\n",
       "      <td>0.75</td>\n",
       "    </tr>\n",
       "    <tr>\n",
       "      <th>1</th>\n",
       "      <td>manufacturer</td>\n",
       "      <td>453</td>\n",
       "      <td>0.25</td>\n",
       "    </tr>\n",
       "  </tbody>\n",
       "</table>\n",
       "</div>"
      ],
      "text/plain": [
       "  business_type  c_mql  c_mql %\n",
       "0      reseller   1387     0.75\n",
       "1  manufacturer    453     0.25"
      ]
     },
     "execution_count": 42,
     "metadata": {},
     "output_type": "execute_result"
    }
   ],
   "source": [
    "f = dados[dados[\"month\"] >= 7]\n",
    "f1 = f[f[\"month\"] <= 10]\n",
    "\n",
    "tipo = (f1.groupby([\"business_type\"])[\"c_mql\"]\n",
    "             .count()\n",
    "             .sort_values(ascending=False)\n",
    "             .reset_index())\n",
    "tipo[\"c_mql %\"] = round(tipo[\"c_mql\"] / tipo[\"c_mql\"].sum(),2)\n",
    "tipo"
   ]
  },
  {
   "cell_type": "markdown",
   "id": "0d3740e5-e432-4153-9a16-d3a5ea90a9ab",
   "metadata": {},
   "source": [
    "### Temos mudança do segmento do lead?"
   ]
  },
  {
   "cell_type": "markdown",
   "id": "36c65384-f642-4196-910c-d0e0844d9c25",
   "metadata": {},
   "source": [
    "Sim, temos uma mudança grande dos segmentos que anteriormente dominavam as principais \n",
    "posições por numero de lead. \n",
    "\n",
    "Sendo agora Decoração de casa em 1° lugar e o unico que repitiu, videos eletronicos em 2°\n",
    "e em 3° ferramentas para jardinagem de casa."
   ]
  },
  {
   "cell_type": "code",
   "execution_count": null,
   "id": "3c35bb43-8fe5-4831-8f5e-64f1180c5167",
   "metadata": {},
   "outputs": [
    {
     "data": {
      "text/html": [
       "<div>\n",
       "<style scoped>\n",
       "    .dataframe tbody tr th:only-of-type {\n",
       "        vertical-align: middle;\n",
       "    }\n",
       "\n",
       "    .dataframe tbody tr th {\n",
       "        vertical-align: top;\n",
       "    }\n",
       "\n",
       "    .dataframe thead th {\n",
       "        text-align: right;\n",
       "    }\n",
       "</style>\n",
       "<table border=\"1\" class=\"dataframe\">\n",
       "  <thead>\n",
       "    <tr style=\"text-align: right;\">\n",
       "      <th></th>\n",
       "      <th>business_segmento</th>\n",
       "      <th>c_mql</th>\n",
       "    </tr>\n",
       "  </thead>\n",
       "  <tbody>\n",
       "    <tr>\n",
       "      <th>0</th>\n",
       "      <td>audio_video_electronics</td>\n",
       "      <td>180</td>\n",
       "    </tr>\n",
       "    <tr>\n",
       "      <th>1</th>\n",
       "      <td>home_decor</td>\n",
       "      <td>133</td>\n",
       "    </tr>\n",
       "    <tr>\n",
       "      <th>2</th>\n",
       "      <td>health_beauty</td>\n",
       "      <td>124</td>\n",
       "    </tr>\n",
       "    <tr>\n",
       "      <th>3</th>\n",
       "      <td>small_appliances</td>\n",
       "      <td>89</td>\n",
       "    </tr>\n",
       "    <tr>\n",
       "      <th>4</th>\n",
       "      <td>home_appliances</td>\n",
       "      <td>75</td>\n",
       "    </tr>\n",
       "  </tbody>\n",
       "</table>\n",
       "</div>"
      ],
      "text/plain": [
       "         business_segmento  c_mql\n",
       "0  audio_video_electronics    180\n",
       "1               home_decor    133\n",
       "2            health_beauty    124\n",
       "3         small_appliances     89\n",
       "4          home_appliances     75"
      ]
     },
     "execution_count": 70,
     "metadata": {},
     "output_type": "execute_result"
    }
   ],
   "source": [
    "f = dados[dados[\"month\"] >= 7]\n",
    "f1 = f[f[\"month\"] <= 8]\n",
    "\n",
    "segmentos = (f1.groupby([\"business_segmento\"])[\"c_mql\"]\n",
    "             .count()\n",
    "             .sort_values(ascending=False)\n",
    "             .reset_index())\n",
    "segmentos.head()"
   ]
  },
  {
   "cell_type": "markdown",
   "id": "646a491d-578d-405c-b156-3dc04773a0c7",
   "metadata": {},
   "source": [
    "### Temos mudança no comportamento do lead?"
   ]
  },
  {
   "cell_type": "markdown",
   "id": "f7c58b8e-4932-414e-bccb-5f7227d1f1f3",
   "metadata": {},
   "source": [
    "Tivemos uma constancia e ate aumento do comportamento CAT e WOLF. Mas, de forma visivel \n",
    "tambem uma queda nos comportamentos SHARK e EAGLE."
   ]
  },
  {
   "cell_type": "code",
   "execution_count": 69,
   "id": "c3c400ad-f1ea-49d4-8430-41eb10ec9862",
   "metadata": {},
   "outputs": [
    {
     "data": {
      "image/png": "[encoded data removed]",
      "text/plain": [
       "<Figure size 900x500 with 1 Axes>"
      ]
     },
     "metadata": {},
     "output_type": "display_data"
    }
   ],
   "source": [
    "f = dados[dados[\"month\"] >= 6]\n",
    "f1 = f[f[\"month\"] <= 11]\n",
    "#f1.to_csv(r'C:\\Users\\ramos\\Desktop\\Studio Analise Dados\\My Own\\BI project\\Olist\\f2.csv') \n",
    "\n",
    "\n",
    "fig, ax = plt.subplots(figsize=(9,5))\n",
    "ax = sns.lineplot(x=\"month\", y=\"c_mql\", data=f1, hue=\"lead_behavior\", errorbar=None, palette=[\"gray\",\"gray\",\"red\",\"red\"])\n",
    "ax.set(xlabel=None)\n",
    "ax.set(ylabel=None);"
   ]
  },
  {
   "cell_type": "markdown",
   "id": "22358be5-b4af-40e9-a7f7-243d68d07dc9",
   "metadata": {},
   "source": [
    "#### Temos uma mudança de comportamento no nivel Close?"
   ]
  },
  {
   "cell_type": "markdown",
   "id": "40c16608-5c20-45fd-803a-297b87376aa3",
   "metadata": {},
   "source": [
    "Assim, como no nivel mql tivemos um aumento do numero de lead para o comportamento de CAT e WOLF,\n",
    "e uma grande queda do comportamento SHARK e EAGLE"
   ]
  },
  {
   "cell_type": "code",
   "execution_count": 46,
   "id": "3a56b49e-356c-4538-b47c-c0f21941928e",
   "metadata": {},
   "outputs": [
    {
     "data": {
      "image/png": "[encoded data removed]",
      "text/plain": [
       "<Figure size 640x480 with 1 Axes>"
      ]
     },
     "metadata": {},
     "output_type": "display_data"
    }
   ],
   "source": [
    "f = dados[dados[\"month\"] >= 7]\n",
    "f1 = f[f[\"month\"] <= 10]\n",
    "\n",
    "sns.lineplot(x=\"month\", y=\"c_close\", data=f1, hue=\"lead_behavior\", errorbar=None, palette=\"tab10\");"
   ]
  },
  {
   "cell_type": "markdown",
   "id": "4957b202-b1c0-4c7d-8e33-4acdacc68128",
   "metadata": {},
   "source": [
    "# O que mudou com a queda e aumento de lead?"
   ]
  },
  {
   "cell_type": "markdown",
   "id": "1486fe40-be3e-4446-9d7b-16d149913abe",
   "metadata": {
    "tags": []
   },
   "source": [
    "### O tempo medio para o ganho/evolução do lead"
   ]
  },
  {
   "cell_type": "markdown",
   "id": "630d3a40-58ea-483f-a57b-25cfc23388f2",
   "metadata": {},
   "source": [
    "Tivemos uma grande diferença quando diz respeito ao tempo do primeiro contato do lead com \n",
    "a olist, ate o momento do ganho ou mesmo de evolução mudado drasticamente nesses 2 periodos. \n",
    "\n",
    "No periodo de crescimento tivemos uma media de 38 dias, já no periodo de queda uma media de 182 dias.Isso, \n",
    "e uma diferença de ate 150 dias ou 3x maior que no periodo anterior."
   ]
  },
  {
   "cell_type": "code",
   "execution_count": 120,
   "id": "99b9461c-0abd-4128-acc0-297444586b85",
   "metadata": {},
   "outputs": [],
   "source": [
    "d1 = dados[dados[\"month\"] >= 7] \n",
    "d2 = d1[d1[\"month\"] <= 10]\n",
    "\n",
    "# Construção do df de datas ref. ao contato\n",
    "data_primeira_ate_fechamento = d2[[\"id_close\",\"first_contact_Date\",\"won_date\",\"contato_primeiro_ate_fechamento\"]]\n",
    "data_primeira_ate_fechamento = (data_primeira_ate_fechamento\n",
    "                                .sort_values(by=\"won_date\",ascending=True)\n",
    "                                .drop_duplicates())\n",
    "\n",
    "# Mudando valor negativos da col. \"contato..\" para positivo\n",
    "data_primeira_ate_fechamento[\"contato_ate_fechamento\"] = data_primeira_ate_fechamento[\"contato_primeiro_ate_fechamento\"] * - 1\n",
    "data_primeira_ate_fechamento.to_csv(r'C:\\Users\\ramos\\Desktop\\Studio Analise Dados\\My Own\\BI project\\Olist\\df.csv') "
   ]
  },
  {
   "cell_type": "code",
   "execution_count": 121,
   "id": "7808ff05-5769-493c-b4d8-e4e3cb98e734",
   "metadata": {},
   "outputs": [],
   "source": [
    "q1 = dados[dados[\"month\"] >= 2] \n",
    "q2 = q1[q1[\"month\"] <= 4]\n",
    "\n",
    "# Construção do df de datas ref. ao contato\n",
    "data_primeira_ate_fechamento = q2[[\"id_close\",\"first_contact_Date\",\"won_date\",\"contato_primeiro_ate_fechamento\"]]\n",
    "data_primeira_ate_fechamento = (data_primeira_ate_fechamento\n",
    "                                .sort_values(by=\"won_date\",ascending=True)\n",
    "                                .drop_duplicates())\n",
    "\n",
    "# Mudando valor negativos da col. \"contato..\" para positivo\n",
    "data_primeira_ate_fechamento[\"contato_ate_fechamento\"] = data_primeira_ate_fechamento[\"contato_primeiro_ate_fechamento\"] * - 1\n",
    "data_primeira_ate_fechamento.to_csv(r'C:\\Users\\ramos\\Desktop\\Studio Analise Dados\\My Own\\BI project\\Olist\\df0.csv') "
   ]
  },
  {
   "cell_type": "code",
   "execution_count": 108,
   "id": "5f048769-8ef9-44dc-8327-1f8dbdcb3f87",
   "metadata": {},
   "outputs": [
    {
     "data": {
      "text/plain": [
       "<AxesSubplot: ylabel='contato_ate_fechamento'>"
      ]
     },
     "execution_count": 108,
     "metadata": {},
     "output_type": "execute_result"
    },
    {
     "data": {
      "image/png": "[encoded data removed]",
      "text/plain": [
       "<Figure size 640x480 with 1 Axes>"
      ]
     },
     "metadata": {},
     "output_type": "display_data"
    }
   ],
   "source": [
    "sns.boxplot(y = data_primeira_ate_fechamento[\"contato_ate_fechamento\"], color='gray')"
   ]
  },
  {
   "cell_type": "code",
   "execution_count": 115,
   "id": "1bb35228-b13d-4a16-8260-ef666e5690f3",
   "metadata": {},
   "outputs": [
    {
     "data": {
      "text/plain": [
       "<AxesSubplot: ylabel='contato_ate_fechamento'>"
      ]
     },
     "execution_count": 115,
     "metadata": {},
     "output_type": "execute_result"
    },
    {
     "data": {
      "image/png": "[encoded data removed]",
      "text/plain": [
       "<Figure size 640x480 with 1 Axes>"
      ]
     },
     "metadata": {},
     "output_type": "display_data"
    }
   ],
   "source": [
    "sns.boxplot(y = data_primeira_ate_fechamento[\"contato_ate_fechamento\"], color='gray')"
   ]
  },
  {
   "cell_type": "markdown",
   "id": "ef56dc37-a60e-40bd-a260-dcc9deaedf83",
   "metadata": {},
   "source": [
    "# Conclusão"
   ]
  },
  {
   "cell_type": "markdown",
   "id": "5c476d07-13fd-4d1b-b1dc-2c4b334af03f",
   "metadata": {
    "jp-MarkdownHeadingCollapsed": true,
    "tags": []
   },
   "source": [
    "### Descobertas \n",
    "\n",
    "Temos uma queda do número de leads que acarreta em uma lentidão ou prejuízo financeiro ou produtivo de até 3x se não identificado cedo. \n",
    "\n",
    "### Solução\n",
    "E Para ser capaz de não sofrer tamanho danos foi definido KPI’S de acompanhamento e a definição de novos perfis, sendo \n",
    "os perfils:\n",
    "\n",
    "1° Perfil - Crescimento\n",
    "\n",
    "•\tAs fontes no nivel Close: Redes Sociais, Pesquisa Orgânica e Pesquisa Paga,\n",
    "\n",
    "•\tOs segmentos: Ferramentas de construção de jardim, Decoração de Casa e acessórios de Saude e beleza,\n",
    "\n",
    "•\tOs comportamentos: Queda Wolf e aumento do Cat, Eagle e Shark.\n",
    " \n",
    "2° Perfil - Queda\n",
    "\n",
    "•\tAs fontes no nivel Close: Pesquisa Orgânica, Redes Sociais e Pesquisa Paga,\n",
    "\n",
    "•\tOs segmentos: Ferramentas de Decoração de Casa, Video eletrônico e Jardinagem\n",
    "\n",
    "•\tOs comportamentos: Queda Shark e Eagle e aumento Cat e Wolf.\n"
   ]
  }
 ],
 "metadata": {
  "kernelspec": {
   "display_name": "Python 3 (ipykernel)",
   "language": "python",
   "name": "python3"
  },
  "language_info": {
   "codemirror_mode": {
    "name": "ipython",
    "version": 3
   },
   "file_extension": ".py",
   "mimetype": "text/x-python",
   "name": "python",
   "nbconvert_exporter": "python",
   "pygments_lexer": "ipython3",
   "version": "3.11.0"
  }
 },
 "nbformat": 4,
 "nbformat_minor": 5
}
